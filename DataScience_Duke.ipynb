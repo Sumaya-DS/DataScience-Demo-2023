{
  "nbformat": 4,
  "nbformat_minor": 0,
  "metadata": {
    "colab": {
      "provenance": [],
      "toc_visible": true,
      "authorship_tag": "ABX9TyPLVz/RFDbOe5PQNdlAL+8S",
      "include_colab_link": true
    },
    "kernelspec": {
      "name": "python3",
      "display_name": "Python 3"
    },
    "language_info": {
      "name": "python"
    }
  },
  "cells": [
    {
      "cell_type": "markdown",
      "metadata": {
        "id": "view-in-github",
        "colab_type": "text"
      },
      "source": [
        "<a href=\"https://colab.research.google.com/github/Sumaya-DS/DataScience-Demo-2023/blob/main/DataScience_Duke.ipynb\" target=\"_parent\"><img src=\"https://colab.research.google.com/assets/colab-badge.svg\" alt=\"Open In Colab\"/></a>"
      ]
    },
    {
      "cell_type": "markdown",
      "source": [
        "#Ingest"
      ],
      "metadata": {
        "id": "x-F8CMXVwEsu"
      }
    },
    {
      "cell_type": "code",
      "source": [],
      "metadata": {
        "id": "BlWAYFOhwI40"
      },
      "execution_count": null,
      "outputs": []
    },
    {
      "cell_type": "markdown",
      "source": [
        "#EDA"
      ],
      "metadata": {
        "id": "BpnjMbeXwLoT"
      }
    },
    {
      "cell_type": "code",
      "source": [],
      "metadata": {
        "id": "MW4vmbkswNb9"
      },
      "execution_count": null,
      "outputs": []
    },
    {
      "cell_type": "markdown",
      "source": [
        "#Modeling"
      ],
      "metadata": {
        "id": "5R826tagwNzK"
      }
    },
    {
      "cell_type": "markdown",
      "source": [
        "#Classification Algorithm1"
      ],
      "metadata": {
        "id": "oxjBhaQhwwE7"
      }
    },
    {
      "cell_type": "code",
      "source": [],
      "metadata": {
        "id": "DbLYp8scwRT8"
      },
      "execution_count": null,
      "outputs": []
    },
    {
      "cell_type": "markdown",
      "source": [],
      "metadata": {
        "id": "edzlBmKcw1wI"
      }
    },
    {
      "cell_type": "markdown",
      "source": [
        "#Classification Algorthim2\n"
      ],
      "metadata": {
        "id": "p9O-2o4aw3dR"
      }
    },
    {
      "cell_type": "markdown",
      "source": [
        "#Conclusion"
      ],
      "metadata": {
        "id": "JBbVRxa6wRzf"
      }
    },
    {
      "cell_type": "code",
      "source": [],
      "metadata": {
        "id": "PDipaYpfwUp0"
      },
      "execution_count": null,
      "outputs": []
    }
  ]
}